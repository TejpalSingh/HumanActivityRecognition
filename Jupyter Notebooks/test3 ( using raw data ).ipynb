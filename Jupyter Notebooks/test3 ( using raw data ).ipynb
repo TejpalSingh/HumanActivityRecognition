{
 "cells": [
  {
   "cell_type": "code",
   "execution_count": 4,
   "metadata": {
    "collapsed": true
   },
   "outputs": [],
   "source": [
    "import pandas as pd\n",
    "\n",
    "train_acc_x_ = pd.read_csv('UCI-HAR-Dataset/train/Inertial Signals/body_acc_x_train.txt',sep=\"\\n\", header=None)\n",
    "train_acc_y_ = pd.read_csv('UCI-HAR-Dataset/train/Inertial Signals/body_acc_y_train.txt',sep=\"\\n\", header=None)\n",
    "train_acc_z_ = pd.read_csv('UCI-HAR-Dataset/train/Inertial Signals/body_acc_z_train.txt',sep=\"\\n\", header=None)\n",
    "train_gyro_x_ = pd.read_csv('UCI-HAR-Dataset/train/Inertial Signals/body_gyro_x_train.txt',sep=\"\\n\", header=None)\n",
    "train_gyro_y_ = pd.read_csv('UCI-HAR-Dataset/train/Inertial Signals/body_gyro_y_train.txt',sep=\"\\n\", header=None)\n",
    "train_gyro_z_ = pd.read_csv('UCI-HAR-Dataset/train/Inertial Signals/body_gyro_z_train.txt',sep=\"\\n\", header=None)\n",
    "\n",
    "test_acc_x_ = pd.read_csv('UCI-HAR-Dataset/test/Inertial Signals/body_acc_x_test.txt',sep=\"\\n\", header=None)\n",
    "test_acc_y_ = pd.read_csv('UCI-HAR-Dataset/test/Inertial Signals/body_acc_y_test.txt',sep=\"\\n\", header=None)\n",
    "test_acc_z_ = pd.read_csv('UCI-HAR-Dataset/test/Inertial Signals/body_acc_z_test.txt',sep=\"\\n\", header=None)\n",
    "test_gyro_x_ = pd.read_csv('UCI-HAR-Dataset/test/Inertial Signals/body_gyro_x_test.txt',sep=\"\\n\", header=None)\n",
    "test_gyro_y_ = pd.read_csv('UCI-HAR-Dataset/test/Inertial Signals/body_gyro_y_test.txt',sep=\"\\n\", header=None)\n",
    "test_gyro_z_ = pd.read_csv('UCI-HAR-Dataset/test/Inertial Signals/body_gyro_z_test.txt',sep=\"\\n\", header=None)\n"
   ]
  },
  {
   "cell_type": "code",
   "execution_count": 2,
   "metadata": {
    "collapsed": false
   },
   "outputs": [],
   "source": [
    "Xy_train_csv=pd.read_csv('train.csv')\n",
    "Xy_test_csv=pd.read_csv('test.csv')\n",
    "Xy_train_csv = Xy_train_csv.drop('Unnamed: 0', 1)\n",
    "Xy_test_csv = Xy_test_csv.drop('Unnamed: 0', 1)\n",
    "# y_train=Xy_train_csv.iloc[:,561:562]\n",
    "# y_test=Xy_test_csv.iloc[:,561:562]\n",
    "\n",
    "#X_train=Xy_train_csv.iloc[:,0:561]\n",
    "y_train=Xy_train_csv.iloc[:,561:562]\n",
    "#X_test=Xy_test_csv.iloc[:,0:561]\n",
    "y_test=Xy_test_csv.iloc[:,561:562]\n"
   ]
  },
  {
   "cell_type": "code",
   "execution_count": null,
   "metadata": {
    "collapsed": false
   },
   "outputs": [],
   "source": [
    "\n"
   ]
  },
  {
   "cell_type": "code",
   "execution_count": 6,
   "metadata": {
    "collapsed": false
   },
   "outputs": [],
   "source": [
    "train_acc_x=pd.DataFrame()\n",
    "train_acc_y=pd.DataFrame()\n",
    "train_acc_z=pd.DataFrame()\n",
    "train_gyro_x=pd.DataFrame()\n",
    "train_gyro_y=pd.DataFrame()\n",
    "train_gyro_z=pd.DataFrame()\n",
    "\n",
    "for i in range(0,128):\n",
    "    train_acc_x[i]=train_acc_x_[0].apply(lambda x: x.split()[i])\n",
    "    #print(i)\n",
    "    i+=1\n",
    "for i in range(0,128):\n",
    "    train_acc_y[i]=train_acc_y_[0].apply(lambda x: x.split()[i])\n",
    "    #print(i)\n",
    "    i+=1\n",
    "for i in range(0,128):\n",
    "    train_acc_z[i]=train_acc_z_[0].apply(lambda x: x.split()[i])\n",
    "    #print(i)\n",
    "    i+=1\n",
    "for i in range(0,128):\n",
    "    train_gyro_x[i]=train_gyro_x_[0].apply(lambda x: x.split()[i])\n",
    "    #print(i)\n",
    "    i+=1\n",
    "for i in range(0,128):\n",
    "    train_gyro_y[i]=train_gyro_y_[0].apply(lambda x: x.split()[i])\n",
    "    #print(i)\n",
    "    i+=1\n",
    "for i in range(0,128):\n",
    "    train_gyro_z[i]=train_gyro_z_[0].apply(lambda x: x.split()[i])\n",
    "    #print(i)\n",
    "    i+=1\n",
    "\n",
    "test_acc_x=pd.DataFrame()\n",
    "test_acc_y=pd.DataFrame()\n",
    "test_acc_z=pd.DataFrame()\n",
    "test_gyro_x=pd.DataFrame()\n",
    "test_gyro_y=pd.DataFrame()\n",
    "test_gyro_z=pd.DataFrame()\n",
    "\n",
    "for i in range(0,128):\n",
    "    test_acc_x[i]=test_acc_x_[0].apply(lambda x: x.split()[i])\n",
    "    #print(i)\n",
    "    i+=1\n",
    "for i in range(0,128):\n",
    "    test_acc_y[i]=test_acc_y_[0].apply(lambda x: x.split()[i])\n",
    "    #print(i)\n",
    "    i+=1\n",
    "for i in range(0,128):\n",
    "    test_acc_z[i]=test_acc_z_[0].apply(lambda x: x.split()[i])\n",
    "    #print(i)\n",
    "    i+=1\n",
    "for i in range(0,128):\n",
    "    test_gyro_x[i]=test_gyro_x_[0].apply(lambda x: x.split()[i])\n",
    "    #print(i)\n",
    "    i+=1\n",
    "for i in range(0,128):\n",
    "    test_gyro_y[i]=test_gyro_y_[0].apply(lambda x: x.split()[i])\n",
    "    #print(i)\n",
    "    i+=1\n",
    "for i in range(0,128):\n",
    "    test_gyro_z[i]=test_gyro_z_[0].apply(lambda x: x.split()[i])\n",
    "    #print(i)\n",
    "    i+=1\n"
   ]
  },
  {
   "cell_type": "code",
   "execution_count": null,
   "metadata": {
    "collapsed": true
   },
   "outputs": [],
   "source": []
  },
  {
   "cell_type": "code",
   "execution_count": 68,
   "metadata": {
    "collapsed": false
   },
   "outputs": [],
   "source": [
    "#my_data_acc_z.head()"
   ]
  },
  {
   "cell_type": "code",
   "execution_count": 7,
   "metadata": {
    "collapsed": false
   },
   "outputs": [],
   "source": [
    "#my_data_acc_z=my_data_acc_z.convert_objects(convert_numeric=True)\n",
    "train_acc_x = train_acc_x.apply(pd.to_numeric)\n",
    "train_acc_y = train_acc_y.apply(pd.to_numeric)\n",
    "train_acc_z = train_acc_z.apply(pd.to_numeric)\n",
    "train_gyro_x = train_gyro_x.apply(pd.to_numeric)\n",
    "train_gyro_y = train_gyro_y.apply(pd.to_numeric)\n",
    "train_gyro_z = train_gyro_z.apply(pd.to_numeric)\n",
    "\n",
    "test_acc_x = test_acc_x.apply(pd.to_numeric)\n",
    "test_acc_y = test_acc_y.apply(pd.to_numeric)\n",
    "test_acc_z = test_acc_z.apply(pd.to_numeric)\n",
    "test_gyro_x = test_gyro_x.apply(pd.to_numeric)\n",
    "test_gyro_y = test_gyro_y.apply(pd.to_numeric)\n",
    "test_gyro_z = test_gyro_z.apply(pd.to_numeric)\n"
   ]
  },
  {
   "cell_type": "code",
   "execution_count": null,
   "metadata": {
    "collapsed": false
   },
   "outputs": [],
   "source": []
  },
  {
   "cell_type": "code",
   "execution_count": null,
   "metadata": {
    "collapsed": false
   },
   "outputs": [],
   "source": []
  },
  {
   "cell_type": "code",
   "execution_count": null,
   "metadata": {
    "collapsed": false
   },
   "outputs": [],
   "source": []
  },
  {
   "cell_type": "code",
   "execution_count": null,
   "metadata": {
    "collapsed": false
   },
   "outputs": [],
   "source": []
  },
  {
   "cell_type": "code",
   "execution_count": null,
   "metadata": {
    "collapsed": false
   },
   "outputs": [],
   "source": []
  },
  {
   "cell_type": "code",
   "execution_count": 128,
   "metadata": {
    "collapsed": false
   },
   "outputs": [],
   "source": [
    "train_data=pd.DataFrame()\n",
    "\n",
    "sum_sqr_acc_xyz=train_acc_x.pow(2)+train_acc_y.pow(2)+train_acc_z.pow(2)\n",
    "sum_sqr_gyro_xyz=train_gyro_x.pow(2)+train_gyro_x.pow(2)+train_gyro_x.pow(2)\n",
    "\n",
    "train_acc_mag=sum_sqr_acc_xyz.pow(0.5)\n",
    "train_gyro_mag=sum_sqr_gyro_xyz.pow(0.5)\n",
    "\n",
    "\n",
    "\n",
    "train_data['x_acc_mean']=train_acc_x.mean(axis=1)\n",
    "train_data['y_acc_mean']=train_acc_y.mean(axis=1)\n",
    "train_data['z_acc_mean']=train_acc_z.mean(axis=1)\n",
    "train_data['x_gyro_mean']=train_gyro_x.mean(axis=1)\n",
    "train_data['y_gyro_mean']=train_gyro_y.mean(axis=1)\n",
    "train_data['z_gyro_mean']=train_gyro_z.mean(axis=1)\n",
    "\n",
    "train_data['x_acc_std']=train_acc_x.std(axis=1)\n",
    "train_data['y_acc_std']=train_acc_y.std(axis=1)\n",
    "train_data['z_acc_std']=train_acc_z.std(axis=1)\n",
    "train_data['x_gyro_std']=train_gyro_x.std(axis=1)\n",
    "train_data['y_gyro_std']=train_gyro_y.std(axis=1)\n",
    "train_data['z_gyro_std']=train_gyro_z.std(axis=1)\n",
    "\n",
    "train_data['x_acc_min']=train_acc_x.min(axis=1)\n",
    "train_data['y_acc_min']=train_acc_y.min(axis=1)\n",
    "train_data['z_acc_min']=train_acc_z.min(axis=1)\n",
    "train_data['x_gyro_min']=train_gyro_x.min(axis=1)\n",
    "train_data['y_gyro_min']=train_gyro_y.min(axis=1)\n",
    "train_data['z_gyro_min']=train_gyro_z.min(axis=1)\n",
    "\n",
    "train_data['x_acc_max']=train_acc_x.max(axis=1)\n",
    "train_data['y_acc_max']=train_acc_y.max(axis=1)\n",
    "train_data['z_acc_max']=train_acc_z.max(axis=1)\n",
    "train_data['x_gyro_max']=train_gyro_x.max(axis=1)\n",
    "train_data['y_gyro_max']=train_gyro_y.max(axis=1)\n",
    "train_data['z_gyro_max']=train_gyro_z.max(axis=1)\n",
    "\n",
    "train_data['x_acc_var']=train_acc_x.var(axis=1)\n",
    "train_data['y_acc_var']=train_acc_y.var(axis=1)\n",
    "train_data['z_acc_var']=train_acc_z.var(axis=1)\n",
    "train_data['x_gyro_var']=train_gyro_x.var(axis=1)\n",
    "train_data['y_gyro_var']=train_gyro_y.var(axis=1)\n",
    "train_data['z_gyro_var']=train_gyro_z.var(axis=1)\n",
    "\n",
    "train_data['x_acc_range']=train_data['x_acc_max']-train_data['x_acc_min']\n",
    "train_data['y_acc_range']=train_data['y_acc_max']-train_data['y_acc_min']\n",
    "train_data['z_acc_range']=train_data['z_acc_max']-train_data['z_acc_min']\n",
    "train_data['x_gyro_range']=train_data['x_gyro_max']-train_data['x_gyro_min']\n",
    "train_data['y_gyro_range']=train_data['y_gyro_max']-train_data['y_gyro_min']\n",
    "train_data['z_gyro_range']=train_data['z_gyro_max']-train_data['z_gyro_min']\n",
    "\n",
    "\n",
    "\n",
    "train_data['mag_acc_mean']=train_acc_mag.mean(axis=1)\n",
    "train_data['mag_gyro_mean']=train_gyro_mag.mean(axis=1)\n",
    "\n",
    "train_data['mag_acc_std']=train_acc_mag.std(axis=1)\n",
    "train_data['mag_gyro_std']=train_gyro_mag.std(axis=1)\n",
    "\n",
    "train_data['mag_acc_min']=train_acc_mag.min(axis=1)\n",
    "train_data['mag_gyro_min']=train_gyro_mag.min(axis=1)\n",
    "\n",
    "train_data['mag_acc_max']=train_acc_mag.max(axis=1)\n",
    "train_data['mag_gyro_max']=train_gyro_mag.max(axis=1)\n",
    "\n",
    "train_data['mag_acc_var']=train_acc_mag.var(axis=1)\n",
    "train_data['mag_gyro_var']=train_gyro_mag.var(axis=1)\n",
    "\n",
    "train_data['mag_acc_range']=train_data['mag_acc_max']-train_data['mag_acc_min']\n",
    "train_data['mag_gyro_range']=train_data['mag_gyro_max']-train_data['mag_gyro_min']\n",
    "\n",
    "\n"
   ]
  },
  {
   "cell_type": "code",
   "execution_count": null,
   "metadata": {
    "collapsed": true
   },
   "outputs": [],
   "source": []
  },
  {
   "cell_type": "code",
   "execution_count": 129,
   "metadata": {
    "collapsed": false
   },
   "outputs": [],
   "source": [
    "test_data=pd.DataFrame()\n",
    "\n",
    "sum_sqr_acc_xyz=test_acc_x.pow(2)+test_acc_y.pow(2)+test_acc_z.pow(2)\n",
    "sum_sqr_gyro_xyz=test_gyro_x.pow(2)+test_gyro_x.pow(2)+test_gyro_x.pow(2)\n",
    "\n",
    "test_acc_mag=sum_sqr_acc_xyz.pow(0.5)\n",
    "test_gyro_mag=sum_sqr_gyro_xyz.pow(0.5)\n",
    "\n",
    "\n",
    "\n",
    "test_data['x_acc_mean']=test_acc_x.mean(axis=1)\n",
    "test_data['y_acc_mean']=test_acc_y.mean(axis=1)\n",
    "test_data['z_acc_mean']=test_acc_z.mean(axis=1)\n",
    "test_data['x_gyro_mean']=test_gyro_x.mean(axis=1)\n",
    "test_data['y_gyro_mean']=test_gyro_y.mean(axis=1)\n",
    "test_data['z_gyro_mean']=test_gyro_z.mean(axis=1)\n",
    "\n",
    "test_data['x_acc_std']=test_acc_x.std(axis=1)\n",
    "test_data['y_acc_std']=test_acc_y.std(axis=1)\n",
    "test_data['z_acc_std']=test_acc_z.std(axis=1)\n",
    "test_data['x_gyro_std']=test_gyro_x.std(axis=1)\n",
    "test_data['y_gyro_std']=test_gyro_y.std(axis=1)\n",
    "test_data['z_gyro_std']=test_gyro_z.std(axis=1)\n",
    "\n",
    "test_data['x_acc_min']=test_acc_x.min(axis=1)\n",
    "test_data['y_acc_min']=test_acc_y.min(axis=1)\n",
    "test_data['z_acc_min']=test_acc_z.min(axis=1)\n",
    "test_data['x_gyro_min']=test_gyro_x.min(axis=1)\n",
    "test_data['y_gyro_min']=test_gyro_y.min(axis=1)\n",
    "test_data['z_gyro_min']=test_gyro_z.min(axis=1)\n",
    "\n",
    "test_data['x_acc_max']=test_acc_x.max(axis=1)\n",
    "test_data['y_acc_max']=test_acc_y.max(axis=1)\n",
    "test_data['z_acc_max']=test_acc_z.max(axis=1)\n",
    "test_data['x_gyro_max']=test_gyro_x.max(axis=1)\n",
    "test_data['y_gyro_max']=test_gyro_y.max(axis=1)\n",
    "test_data['z_gyro_max']=test_gyro_z.max(axis=1)\n",
    "\n",
    "test_data['x_acc_var']=test_acc_x.var(axis=1)\n",
    "test_data['y_acc_var']=test_acc_y.var(axis=1)\n",
    "test_data['z_acc_var']=test_acc_z.var(axis=1)\n",
    "test_data['x_gyro_var']=test_gyro_x.var(axis=1)\n",
    "test_data['y_gyro_var']=test_gyro_y.var(axis=1)\n",
    "test_data['z_gyro_var']=test_gyro_z.var(axis=1)\n",
    "\n",
    "test_data['x_acc_range']=test_data['x_acc_max']-test_data['x_acc_min']\n",
    "test_data['y_acc_range']=test_data['y_acc_max']-test_data['y_acc_min']\n",
    "test_data['z_acc_range']=test_data['z_acc_max']-test_data['z_acc_min']\n",
    "test_data['x_gyro_range']=test_data['x_gyro_max']-test_data['x_gyro_min']\n",
    "test_data['y_gyro_range']=test_data['y_gyro_max']-test_data['y_gyro_min']\n",
    "test_data['z_gyro_range']=test_data['z_gyro_max']-test_data['z_gyro_min']\n",
    "\n",
    "\n",
    "test_data['mag_acc_mean']=test_acc_mag.mean(axis=1)\n",
    "test_data['mag_gyro_mean']=test_gyro_mag.mean(axis=1)\n",
    "\n",
    "test_data['mag_acc_std']=test_acc_mag.std(axis=1)\n",
    "test_data['mag_gyro_std']=test_gyro_mag.std(axis=1)\n",
    "\n",
    "test_data['mag_acc_min']=test_acc_mag.min(axis=1)\n",
    "test_data['mag_gyro_min']=test_gyro_mag.min(axis=1)\n",
    "\n",
    "test_data['mag_acc_max']=test_acc_mag.max(axis=1)\n",
    "test_data['mag_gyro_max']=test_gyro_mag.max(axis=1)\n",
    "\n",
    "test_data['mag_acc_var']=test_acc_mag.var(axis=1)\n",
    "test_data['mag_gyro_var']=test_gyro_mag.var(axis=1)\n",
    "\n",
    "test_data['mag_acc_range']=test_data['mag_acc_max']-test_data['mag_acc_min']\n",
    "test_data['mag_gyro_range']=test_data['mag_gyro_max']-test_data['mag_gyro_min']\n"
   ]
  },
  {
   "cell_type": "code",
   "execution_count": 130,
   "metadata": {
    "collapsed": false
   },
   "outputs": [],
   "source": [
    "train_data.to_csv(\"raw_train_x_with_mag.csv\")\n",
    "test_data.to_csv(\"raw_test_x_with_mag.csv\")\n"
   ]
  },
  {
   "cell_type": "code",
   "execution_count": 156,
   "metadata": {
    "collapsed": false
   },
   "outputs": [],
   "source": [
    "my_data_train_X=pd.read_csv(\"raw_train_x_with_mag.csv\")\n",
    "my_data_test_X=pd.read_csv(\"raw_test_x_with_mag.csv\")\n",
    "my_data_train_X = my_data_train_X.drop('Unnamed: 0', 1)\n",
    "my_data_test_X = my_data_test_X.drop('Unnamed: 0', 1)\n",
    "\n"
   ]
  },
  {
   "cell_type": "code",
   "execution_count": 157,
   "metadata": {
    "collapsed": false
   },
   "outputs": [
    {
     "data": {
      "text/html": [
       "<div>\n",
       "<style>\n",
       "    .dataframe thead tr:only-child th {\n",
       "        text-align: right;\n",
       "    }\n",
       "\n",
       "    .dataframe thead th {\n",
       "        text-align: left;\n",
       "    }\n",
       "\n",
       "    .dataframe tbody tr th {\n",
       "        vertical-align: top;\n",
       "    }\n",
       "</style>\n",
       "<table border=\"1\" class=\"dataframe\">\n",
       "  <thead>\n",
       "    <tr style=\"text-align: right;\">\n",
       "      <th></th>\n",
       "      <th>x_acc_mean</th>\n",
       "      <th>y_acc_mean</th>\n",
       "      <th>z_acc_mean</th>\n",
       "      <th>x_gyro_mean</th>\n",
       "      <th>y_gyro_mean</th>\n",
       "      <th>z_gyro_mean</th>\n",
       "      <th>x_acc_std</th>\n",
       "      <th>y_acc_std</th>\n",
       "      <th>z_acc_std</th>\n",
       "      <th>x_gyro_std</th>\n",
       "      <th>...</th>\n",
       "      <th>mag_acc_std</th>\n",
       "      <th>mag_gyro_std</th>\n",
       "      <th>mag_acc_min</th>\n",
       "      <th>mag_gyro_min</th>\n",
       "      <th>mag_acc_max</th>\n",
       "      <th>mag_gyro_max</th>\n",
       "      <th>mag_acc_var</th>\n",
       "      <th>mag_gyro_var</th>\n",
       "      <th>mag_acc_range</th>\n",
       "      <th>mag_gyro_range</th>\n",
       "    </tr>\n",
       "  </thead>\n",
       "  <tbody>\n",
       "    <tr>\n",
       "      <th>0</th>\n",
       "      <td>0.002269</td>\n",
       "      <td>-0.001655</td>\n",
       "      <td>-0.008126</td>\n",
       "      <td>0.022250</td>\n",
       "      <td>0.019403</td>\n",
       "      <td>0.009468</td>\n",
       "      <td>0.002953</td>\n",
       "      <td>0.004619</td>\n",
       "      <td>0.018577</td>\n",
       "      <td>0.014491</td>\n",
       "      <td>...</td>\n",
       "      <td>0.010999</td>\n",
       "      <td>0.024776</td>\n",
       "      <td>0.001462</td>\n",
       "      <td>0.000730</td>\n",
       "      <td>0.056595</td>\n",
       "      <td>0.087546</td>\n",
       "      <td>0.000121</td>\n",
       "      <td>0.000614</td>\n",
       "      <td>0.055132</td>\n",
       "      <td>0.086816</td>\n",
       "    </tr>\n",
       "    <tr>\n",
       "      <th>1</th>\n",
       "      <td>0.000174</td>\n",
       "      <td>0.000382</td>\n",
       "      <td>-0.005025</td>\n",
       "      <td>0.011926</td>\n",
       "      <td>-0.004314</td>\n",
       "      <td>0.006308</td>\n",
       "      <td>0.001989</td>\n",
       "      <td>0.005953</td>\n",
       "      <td>0.010162</td>\n",
       "      <td>0.016398</td>\n",
       "      <td>...</td>\n",
       "      <td>0.006304</td>\n",
       "      <td>0.019914</td>\n",
       "      <td>0.000958</td>\n",
       "      <td>0.000730</td>\n",
       "      <td>0.027460</td>\n",
       "      <td>0.095695</td>\n",
       "      <td>0.000040</td>\n",
       "      <td>0.000397</td>\n",
       "      <td>0.026503</td>\n",
       "      <td>0.094965</td>\n",
       "    </tr>\n",
       "    <tr>\n",
       "      <th>2</th>\n",
       "      <td>0.000428</td>\n",
       "      <td>-0.001222</td>\n",
       "      <td>-0.001703</td>\n",
       "      <td>-0.004150</td>\n",
       "      <td>-0.012640</td>\n",
       "      <td>0.004335</td>\n",
       "      <td>0.002920</td>\n",
       "      <td>0.007339</td>\n",
       "      <td>0.006813</td>\n",
       "      <td>0.022344</td>\n",
       "      <td>...</td>\n",
       "      <td>0.004103</td>\n",
       "      <td>0.019116</td>\n",
       "      <td>0.000958</td>\n",
       "      <td>0.003114</td>\n",
       "      <td>0.020462</td>\n",
       "      <td>0.095695</td>\n",
       "      <td>0.000017</td>\n",
       "      <td>0.000365</td>\n",
       "      <td>0.019504</td>\n",
       "      <td>0.092581</td>\n",
       "    </tr>\n",
       "    <tr>\n",
       "      <th>3</th>\n",
       "      <td>0.000329</td>\n",
       "      <td>-0.004753</td>\n",
       "      <td>-0.004947</td>\n",
       "      <td>-0.016228</td>\n",
       "      <td>-0.007697</td>\n",
       "      <td>-0.000352</td>\n",
       "      <td>0.002688</td>\n",
       "      <td>0.004569</td>\n",
       "      <td>0.004703</td>\n",
       "      <td>0.009201</td>\n",
       "      <td>...</td>\n",
       "      <td>0.004397</td>\n",
       "      <td>0.014658</td>\n",
       "      <td>0.000647</td>\n",
       "      <td>0.000239</td>\n",
       "      <td>0.020462</td>\n",
       "      <td>0.064979</td>\n",
       "      <td>0.000019</td>\n",
       "      <td>0.000215</td>\n",
       "      <td>0.019815</td>\n",
       "      <td>0.064741</td>\n",
       "    </tr>\n",
       "    <tr>\n",
       "      <th>4</th>\n",
       "      <td>-0.000195</td>\n",
       "      <td>0.000298</td>\n",
       "      <td>-0.002330</td>\n",
       "      <td>-0.006483</td>\n",
       "      <td>-0.000166</td>\n",
       "      <td>-0.003957</td>\n",
       "      <td>0.002023</td>\n",
       "      <td>0.005011</td>\n",
       "      <td>0.004738</td>\n",
       "      <td>0.014601</td>\n",
       "      <td>...</td>\n",
       "      <td>0.003503</td>\n",
       "      <td>0.014784</td>\n",
       "      <td>0.000647</td>\n",
       "      <td>0.000232</td>\n",
       "      <td>0.016447</td>\n",
       "      <td>0.075701</td>\n",
       "      <td>0.000012</td>\n",
       "      <td>0.000219</td>\n",
       "      <td>0.015800</td>\n",
       "      <td>0.075469</td>\n",
       "    </tr>\n",
       "  </tbody>\n",
       "</table>\n",
       "<p>5 rows × 48 columns</p>\n",
       "</div>"
      ],
      "text/plain": [
       "   x_acc_mean  y_acc_mean  z_acc_mean  x_gyro_mean  y_gyro_mean  z_gyro_mean  \\\n",
       "0    0.002269   -0.001655   -0.008126     0.022250     0.019403     0.009468   \n",
       "1    0.000174    0.000382   -0.005025     0.011926    -0.004314     0.006308   \n",
       "2    0.000428   -0.001222   -0.001703    -0.004150    -0.012640     0.004335   \n",
       "3    0.000329   -0.004753   -0.004947    -0.016228    -0.007697    -0.000352   \n",
       "4   -0.000195    0.000298   -0.002330    -0.006483    -0.000166    -0.003957   \n",
       "\n",
       "   x_acc_std  y_acc_std  z_acc_std  x_gyro_std       ...        mag_acc_std  \\\n",
       "0   0.002953   0.004619   0.018577    0.014491       ...           0.010999   \n",
       "1   0.001989   0.005953   0.010162    0.016398       ...           0.006304   \n",
       "2   0.002920   0.007339   0.006813    0.022344       ...           0.004103   \n",
       "3   0.002688   0.004569   0.004703    0.009201       ...           0.004397   \n",
       "4   0.002023   0.005011   0.004738    0.014601       ...           0.003503   \n",
       "\n",
       "   mag_gyro_std  mag_acc_min  mag_gyro_min  mag_acc_max  mag_gyro_max  \\\n",
       "0      0.024776     0.001462      0.000730     0.056595      0.087546   \n",
       "1      0.019914     0.000958      0.000730     0.027460      0.095695   \n",
       "2      0.019116     0.000958      0.003114     0.020462      0.095695   \n",
       "3      0.014658     0.000647      0.000239     0.020462      0.064979   \n",
       "4      0.014784     0.000647      0.000232     0.016447      0.075701   \n",
       "\n",
       "   mag_acc_var  mag_gyro_var  mag_acc_range  mag_gyro_range  \n",
       "0     0.000121      0.000614       0.055132        0.086816  \n",
       "1     0.000040      0.000397       0.026503        0.094965  \n",
       "2     0.000017      0.000365       0.019504        0.092581  \n",
       "3     0.000019      0.000215       0.019815        0.064741  \n",
       "4     0.000012      0.000219       0.015800        0.075469  \n",
       "\n",
       "[5 rows x 48 columns]"
      ]
     },
     "execution_count": 157,
     "metadata": {},
     "output_type": "execute_result"
    }
   ],
   "source": [
    "my_data_train_X.head()"
   ]
  },
  {
   "cell_type": "code",
   "execution_count": 158,
   "metadata": {
    "collapsed": false
   },
   "outputs": [
    {
     "data": {
      "text/plain": [
       "(7352, 48)"
      ]
     },
     "execution_count": 158,
     "metadata": {},
     "output_type": "execute_result"
    }
   ],
   "source": [
    "my_data_train_X.shape"
   ]
  },
  {
   "cell_type": "code",
   "execution_count": 159,
   "metadata": {
    "collapsed": false
   },
   "outputs": [
    {
     "data": {
      "text/plain": [
       "(2947, 48)"
      ]
     },
     "execution_count": 159,
     "metadata": {},
     "output_type": "execute_result"
    }
   ],
   "source": [
    "my_data_test_X.shape"
   ]
  },
  {
   "cell_type": "code",
   "execution_count": null,
   "metadata": {
    "collapsed": false
   },
   "outputs": [],
   "source": []
  },
  {
   "cell_type": "code",
   "execution_count": 160,
   "metadata": {
    "collapsed": false
   },
   "outputs": [],
   "source": [
    "# from sklearn.decomposition import PCA\n",
    "# pca = PCA(n_components=48)\n",
    "# data1=pca.fit_transform(my_data_train_X)\n",
    "# data2=pca.fit_transform(my_data_test_X)"
   ]
  },
  {
   "cell_type": "code",
   "execution_count": 161,
   "metadata": {
    "collapsed": false
   },
   "outputs": [],
   "source": [
    "# my_data_train_X=pd.DataFrame(data1)\n",
    "# my_data_test_X=pd.DataFrame(data2)\n"
   ]
  },
  {
   "cell_type": "code",
   "execution_count": 162,
   "metadata": {
    "collapsed": false
   },
   "outputs": [
    {
     "name": "stdout",
     "output_type": "stream",
     "text": [
      "Training input  (7352, 48) \n",
      "Training label  (7352, 1)\n"
     ]
    }
   ],
   "source": [
    "from sklearn.linear_model import LogisticRegression\n",
    "model = LogisticRegression()\n",
    "print(\"Training input \",my_data_train_X.shape,\"\\nTraining label \",y_train.shape)\n",
    "model = model.fit(my_data_train_X, y_train.values.ravel())"
   ]
  },
  {
   "cell_type": "code",
   "execution_count": 163,
   "metadata": {
    "collapsed": false
   },
   "outputs": [
    {
     "name": "stdout",
     "output_type": "stream",
     "text": [
      "Test input  (2947, 48) \n",
      "Test label  (2947,)\n",
      "Accuracy:  0.742789277231\n"
     ]
    }
   ],
   "source": [
    "# check the accuracy on the training set\n",
    "print(\"Test input \",my_data_test_X.shape,\"\\nTest label \",y_test.values.ravel().shape)\n",
    "print(\"Accuracy: \",model.score(my_data_test_X, y_test))\n",
    "predicted = model.predict(my_data_test_X)"
   ]
  },
  {
   "cell_type": "code",
   "execution_count": 164,
   "metadata": {
    "collapsed": false
   },
   "outputs": [
    {
     "data": {
      "text/plain": [
       "SVC(C=1.0, cache_size=200, class_weight=None, coef0=0.0,\n",
       "  decision_function_shape='ovr', degree=3, gamma=0.1, kernel='linear',\n",
       "  max_iter=-1, probability=False, random_state=0, shrinking=True,\n",
       "  tol=0.001, verbose=False)"
      ]
     },
     "execution_count": 164,
     "metadata": {},
     "output_type": "execute_result"
    }
   ],
   "source": [
    "from sklearn.svm import SVC\n",
    "clf = SVC(C=1., gamma=0.1, kernel='linear', random_state=0)\n",
    "clf.fit(my_data_train_X, y_train.values.ravel()) \n"
   ]
  },
  {
   "cell_type": "code",
   "execution_count": 165,
   "metadata": {
    "collapsed": false
   },
   "outputs": [
    {
     "name": "stdout",
     "output_type": "stream",
     "text": [
      "Test input  (2947, 48) \n",
      "Test label  (2947,)\n",
      "Accuracy:  0.747879199186\n"
     ]
    }
   ],
   "source": [
    "# check the accuracy on the training set\n",
    "print(\"Test input \",my_data_test_X.shape,\"\\nTest label \",y_test.values.ravel().shape)\n",
    "print(\"Accuracy: \",clf.score(my_data_test_X, y_test))\n",
    "predicted2 = model.predict(my_data_test_X)"
   ]
  },
  {
   "cell_type": "code",
   "execution_count": 143,
   "metadata": {
    "collapsed": false
   },
   "outputs": [
    {
     "name": "stdout",
     "output_type": "stream",
     "text": [
      "                    precision    recall  f1-score   support\n",
      "\n",
      "           WALKING       0.73      0.86      0.79       496\n",
      "  WALKING UPSTAIRS       0.79      0.69      0.74       471\n",
      "WALKING DOWNSTAIRS       0.90      0.84      0.87       420\n",
      "           SITTING       0.62      0.76      0.69       491\n",
      "          STANDING       0.80      0.67      0.73       532\n",
      "            LAYING       0.69      0.65      0.67       537\n",
      "\n",
      "       avg / total       0.75      0.74      0.74      2947\n",
      "\n"
     ]
    },
    {
     "data": {
      "image/png": "[encoded data removed]",
      "text/plain": [
       "<matplotlib.figure.Figure at 0x144626d30>"
      ]
     },
     "metadata": {},
     "output_type": "display_data"
    }
   ],
   "source": [
    "from sklearn.metrics import classification_report, confusion_matrix\n",
    "import matplotlib.pyplot as plt\n",
    "import numpy as np\n",
    "#plt.style.use('ggplot')\n",
    "labels = {1:'WALKING', 2:'WALKING UPSTAIRS', 3:'WALKING DOWNSTAIRS',\n",
    "          4:'SITTING', 5:'STANDING', 6:'LAYING'}\n",
    "\n",
    "print (classification_report(y_test, predicted,\n",
    "                            target_names=[l for l in labels.values()]))\n",
    "\n",
    "conf_mat = confusion_matrix(y_test, predicted)\n",
    "\n",
    "fig = plt.figure(figsize=(6,6))\n",
    "width = np.shape(conf_mat)[1]\n",
    "height = np.shape(conf_mat)[0]\n",
    "\n",
    "res = plt.imshow(np.array(conf_mat), cmap=plt.cm.summer, interpolation='nearest')\n",
    "for i, row in enumerate(conf_mat):\n",
    "    for j, c in enumerate(row):\n",
    "        if c>0:\n",
    "            plt.text(j-.2, i+.1, c, fontsize=16)\n",
    "            \n",
    "cb = fig.colorbar(res)\n",
    "plt.title('Confusion Matrix')\n",
    "plt.xticks(range(6), [l for l in labels.values()], rotation=90)\n",
    "plt.yticks(range(6), [l for l in labels.values()])\n",
    "plt.show()"
   ]
  },
  {
   "cell_type": "code",
   "execution_count": null,
   "metadata": {
    "collapsed": true
   },
   "outputs": [],
   "source": []
  }
 ],
 "metadata": {
  "anaconda-cloud": {},
  "kernelspec": {
   "display_name": "Python [default]",
   "language": "python",
   "name": "python3"
  },
  "language_info": {
   "codemirror_mode": {
    "name": "ipython",
    "version": 3
   },
   "file_extension": ".py",
   "mimetype": "text/x-python",
   "name": "python",
   "nbconvert_exporter": "python",
   "pygments_lexer": "ipython3",
   "version": "3.5.2"
  }
 },
 "nbformat": 4,
 "nbformat_minor": 1
}
