{
 "cells": [
  {
   "cell_type": "code",
   "execution_count": 56,
   "metadata": {
    "collapsed": true
   },
   "outputs": [],
   "source": [
    "import pandas as pd"
   ]
  },
  {
   "cell_type": "code",
   "execution_count": 91,
   "metadata": {
    "collapsed": true
   },
   "outputs": [],
   "source": [
    "acc_x=pd.read_csv(\"My_CSV_Data/acc_x.csv\")\n",
    "acc_y=pd.read_csv(\"My_CSV_Data/acc_y.csv\")\n",
    "acc_z=pd.read_csv(\"My_CSV_Data/acc_z.csv\")\n",
    "gyro_x=pd.read_csv(\"My_CSV_Data/gyro_x.csv\")\n",
    "gyro_y=pd.read_csv(\"My_CSV_Data/gyro_y.csv\")\n",
    "gyro_z=pd.read_csv(\"My_CSV_Data/gyro_z.csv\")\n",
    "\n",
    "labels=['Running','Sitting','Walking','Laying']"
   ]
  },
  {
   "cell_type": "code",
   "execution_count": 92,
   "metadata": {
    "collapsed": false
   },
   "outputs": [
    {
     "data": {
      "text/html": [
       "<div>\n",
       "<style>\n",
       "    .dataframe thead tr:only-child th {\n",
       "        text-align: right;\n",
       "    }\n",
       "\n",
       "    .dataframe thead th {\n",
       "        text-align: left;\n",
       "    }\n",
       "\n",
       "    .dataframe tbody tr th {\n",
       "        vertical-align: top;\n",
       "    }\n",
       "</style>\n",
       "<table border=\"1\" class=\"dataframe\">\n",
       "  <thead>\n",
       "    <tr style=\"text-align: right;\">\n",
       "      <th></th>\n",
       "      <th>0</th>\n",
       "      <th>1</th>\n",
       "      <th>2</th>\n",
       "      <th>3</th>\n",
       "      <th>4</th>\n",
       "      <th>5</th>\n",
       "      <th>6</th>\n",
       "      <th>7</th>\n",
       "      <th>8</th>\n",
       "      <th>9</th>\n",
       "      <th>...</th>\n",
       "      <th>41</th>\n",
       "      <th>42</th>\n",
       "      <th>43</th>\n",
       "      <th>44</th>\n",
       "      <th>45</th>\n",
       "      <th>46</th>\n",
       "      <th>47</th>\n",
       "      <th>48</th>\n",
       "      <th>49</th>\n",
       "      <th>y</th>\n",
       "    </tr>\n",
       "  </thead>\n",
       "  <tbody>\n",
       "    <tr>\n",
       "      <th>0</th>\n",
       "      <td>8.313267</td>\n",
       "      <td>-0.427964</td>\n",
       "      <td>-1.119888</td>\n",
       "      <td>-1.859696</td>\n",
       "      <td>-1.686117</td>\n",
       "      <td>-1.778892</td>\n",
       "      <td>-0.295684</td>\n",
       "      <td>2.358887</td>\n",
       "      <td>13.938444</td>\n",
       "      <td>12.170924</td>\n",
       "      <td>...</td>\n",
       "      <td>-1.626860</td>\n",
       "      <td>0.886453</td>\n",
       "      <td>0.812831</td>\n",
       "      <td>4.289811</td>\n",
       "      <td>12.952033</td>\n",
       "      <td>13.095685</td>\n",
       "      <td>14.953586</td>\n",
       "      <td>19.612701</td>\n",
       "      <td>19.612701</td>\n",
       "      <td>1</td>\n",
       "    </tr>\n",
       "    <tr>\n",
       "      <th>1</th>\n",
       "      <td>-2.203264</td>\n",
       "      <td>4.697424</td>\n",
       "      <td>15.050550</td>\n",
       "      <td>12.489353</td>\n",
       "      <td>19.612701</td>\n",
       "      <td>19.612701</td>\n",
       "      <td>19.612701</td>\n",
       "      <td>18.547880</td>\n",
       "      <td>15.368979</td>\n",
       "      <td>13.057378</td>\n",
       "      <td>...</td>\n",
       "      <td>19.612701</td>\n",
       "      <td>19.612701</td>\n",
       "      <td>17.615340</td>\n",
       "      <td>14.626178</td>\n",
       "      <td>12.881404</td>\n",
       "      <td>7.013216</td>\n",
       "      <td>2.628235</td>\n",
       "      <td>0.414795</td>\n",
       "      <td>-1.204283</td>\n",
       "      <td>1</td>\n",
       "    </tr>\n",
       "    <tr>\n",
       "      <th>2</th>\n",
       "      <td>19.612701</td>\n",
       "      <td>15.975311</td>\n",
       "      <td>13.641562</td>\n",
       "      <td>13.725958</td>\n",
       "      <td>12.202049</td>\n",
       "      <td>7.741053</td>\n",
       "      <td>3.257910</td>\n",
       "      <td>0.216675</td>\n",
       "      <td>-2.151789</td>\n",
       "      <td>-2.743755</td>\n",
       "      <td>...</td>\n",
       "      <td>1.154604</td>\n",
       "      <td>-1.454478</td>\n",
       "      <td>-3.786430</td>\n",
       "      <td>-2.903568</td>\n",
       "      <td>-0.994791</td>\n",
       "      <td>-0.827795</td>\n",
       "      <td>-1.062427</td>\n",
       "      <td>6.238092</td>\n",
       "      <td>19.612701</td>\n",
       "      <td>1</td>\n",
       "    </tr>\n",
       "    <tr>\n",
       "      <th>3</th>\n",
       "      <td>-4.101866</td>\n",
       "      <td>-4.763863</td>\n",
       "      <td>-0.402226</td>\n",
       "      <td>1.811214</td>\n",
       "      <td>3.081936</td>\n",
       "      <td>12.343905</td>\n",
       "      <td>15.051149</td>\n",
       "      <td>13.342886</td>\n",
       "      <td>19.612701</td>\n",
       "      <td>19.612701</td>\n",
       "      <td>...</td>\n",
       "      <td>12.618041</td>\n",
       "      <td>19.612701</td>\n",
       "      <td>19.612701</td>\n",
       "      <td>19.612701</td>\n",
       "      <td>19.612701</td>\n",
       "      <td>17.365744</td>\n",
       "      <td>16.440983</td>\n",
       "      <td>15.356410</td>\n",
       "      <td>10.322002</td>\n",
       "      <td>1</td>\n",
       "    </tr>\n",
       "    <tr>\n",
       "      <th>4</th>\n",
       "      <td>19.612701</td>\n",
       "      <td>19.612701</td>\n",
       "      <td>19.612701</td>\n",
       "      <td>18.835184</td>\n",
       "      <td>16.707937</td>\n",
       "      <td>13.915699</td>\n",
       "      <td>6.043564</td>\n",
       "      <td>1.247379</td>\n",
       "      <td>-0.632069</td>\n",
       "      <td>-2.583344</td>\n",
       "      <td>...</td>\n",
       "      <td>8.363545</td>\n",
       "      <td>3.077746</td>\n",
       "      <td>-1.177947</td>\n",
       "      <td>-1.237204</td>\n",
       "      <td>-3.933075</td>\n",
       "      <td>-5.796362</td>\n",
       "      <td>-2.371457</td>\n",
       "      <td>2.829348</td>\n",
       "      <td>4.743512</td>\n",
       "      <td>1</td>\n",
       "    </tr>\n",
       "  </tbody>\n",
       "</table>\n",
       "<p>5 rows × 51 columns</p>\n",
       "</div>"
      ],
      "text/plain": [
       "           0          1          2          3          4          5  \\\n",
       "0   8.313267  -0.427964  -1.119888  -1.859696  -1.686117  -1.778892   \n",
       "1  -2.203264   4.697424  15.050550  12.489353  19.612701  19.612701   \n",
       "2  19.612701  15.975311  13.641562  13.725958  12.202049   7.741053   \n",
       "3  -4.101866  -4.763863  -0.402226   1.811214   3.081936  12.343905   \n",
       "4  19.612701  19.612701  19.612701  18.835184  16.707937  13.915699   \n",
       "\n",
       "           6          7          8          9 ...         41         42  \\\n",
       "0  -0.295684   2.358887  13.938444  12.170924 ...  -1.626860   0.886453   \n",
       "1  19.612701  18.547880  15.368979  13.057378 ...  19.612701  19.612701   \n",
       "2   3.257910   0.216675  -2.151789  -2.743755 ...   1.154604  -1.454478   \n",
       "3  15.051149  13.342886  19.612701  19.612701 ...  12.618041  19.612701   \n",
       "4   6.043564   1.247379  -0.632069  -2.583344 ...   8.363545   3.077746   \n",
       "\n",
       "          43         44         45         46         47         48  \\\n",
       "0   0.812831   4.289811  12.952033  13.095685  14.953586  19.612701   \n",
       "1  17.615340  14.626178  12.881404   7.013216   2.628235   0.414795   \n",
       "2  -3.786430  -2.903568  -0.994791  -0.827795  -1.062427   6.238092   \n",
       "3  19.612701  19.612701  19.612701  17.365744  16.440983  15.356410   \n",
       "4  -1.177947  -1.237204  -3.933075  -5.796362  -2.371457   2.829348   \n",
       "\n",
       "          49  y  \n",
       "0  19.612701  1  \n",
       "1  -1.204283  1  \n",
       "2  19.612701  1  \n",
       "3  10.322002  1  \n",
       "4   4.743512  1  \n",
       "\n",
       "[5 rows x 51 columns]"
      ]
     },
     "execution_count": 92,
     "metadata": {},
     "output_type": "execute_result"
    }
   ],
   "source": [
    "acc_y.head()"
   ]
  },
  {
   "cell_type": "code",
   "execution_count": 93,
   "metadata": {
    "collapsed": false
   },
   "outputs": [
    {
     "name": "stdout",
     "output_type": "stream",
     "text": [
      "1596\n"
     ]
    }
   ],
   "source": [
    "total=len(acc_x.index)\n",
    "print(total)"
   ]
  },
  {
   "cell_type": "code",
   "execution_count": 94,
   "metadata": {
    "collapsed": false
   },
   "outputs": [],
   "source": [
    "train_count=int(len(acc_x.index)*0.7)"
   ]
  },
  {
   "cell_type": "code",
   "execution_count": 95,
   "metadata": {
    "collapsed": false
   },
   "outputs": [],
   "source": [
    "test_count=int(len(acc_x.index)*0.3)"
   ]
  },
  {
   "cell_type": "code",
   "execution_count": 96,
   "metadata": {
    "collapsed": false
   },
   "outputs": [],
   "source": [
    "#int(len(acc_x.index)*0.7)+int(len(acc_x.index)*0.3)"
   ]
  },
  {
   "cell_type": "code",
   "execution_count": 97,
   "metadata": {
    "collapsed": true
   },
   "outputs": [],
   "source": [
    "train_acc_x=acc_x.iloc[:,0:50]\n",
    "train_acc_y=acc_y.iloc[:,0:50]\n",
    "train_acc_z=acc_z.iloc[:,0:50]\n",
    "train_gyro_x=gyro_x.iloc[:,0:50]\n",
    "train_gyro_y=gyro_y.iloc[:,0:50]\n",
    "train_gyro_z=gyro_z.iloc[:,0:50]\n",
    "\n",
    "train_y=acc_x.iloc[:,50:51]\n",
    "\n",
    "# train_acc_x=acc_x.iloc[0:train_count]\n",
    "# train_acc_y=acc_y.iloc[0:train_count]\n",
    "# train_acc_z=acc_z.iloc[0:train_count]\n",
    "# train_gyro_x=gyro_x.iloc[0:train_count]\n",
    "# train_gyro_y=gyro_y.iloc[0:train_count]\n",
    "# train_gyro_z=gyro_z.iloc[0:train_count]\n",
    "\n",
    "# test_acc_x=acc_x.iloc[train_count:total]\n",
    "# test_acc_y=acc_y.iloc[train_count:total]\n",
    "# test_acc_z=acc_z.iloc[train_count:total]\n",
    "# test_gyro_x=gyro_x.iloc[train_count:total]\n",
    "# test_gyro_y=gyro_y.iloc[train_count:total]\n",
    "# test_gyro_z=gyro_z.iloc[train_count:total]\n",
    "\n"
   ]
  },
  {
   "cell_type": "code",
   "execution_count": 98,
   "metadata": {
    "collapsed": false
   },
   "outputs": [
    {
     "data": {
      "text/html": [
       "<div>\n",
       "<style>\n",
       "    .dataframe thead tr:only-child th {\n",
       "        text-align: right;\n",
       "    }\n",
       "\n",
       "    .dataframe thead th {\n",
       "        text-align: left;\n",
       "    }\n",
       "\n",
       "    .dataframe tbody tr th {\n",
       "        vertical-align: top;\n",
       "    }\n",
       "</style>\n",
       "<table border=\"1\" class=\"dataframe\">\n",
       "  <thead>\n",
       "    <tr style=\"text-align: right;\">\n",
       "      <th></th>\n",
       "      <th>0</th>\n",
       "      <th>1</th>\n",
       "      <th>2</th>\n",
       "      <th>3</th>\n",
       "      <th>4</th>\n",
       "      <th>5</th>\n",
       "      <th>6</th>\n",
       "      <th>7</th>\n",
       "      <th>8</th>\n",
       "      <th>9</th>\n",
       "      <th>...</th>\n",
       "      <th>40</th>\n",
       "      <th>41</th>\n",
       "      <th>42</th>\n",
       "      <th>43</th>\n",
       "      <th>44</th>\n",
       "      <th>45</th>\n",
       "      <th>46</th>\n",
       "      <th>47</th>\n",
       "      <th>48</th>\n",
       "      <th>49</th>\n",
       "    </tr>\n",
       "  </thead>\n",
       "  <tbody>\n",
       "    <tr>\n",
       "      <th>0</th>\n",
       "      <td>-0.010774</td>\n",
       "      <td>0.715268</td>\n",
       "      <td>0.877475</td>\n",
       "      <td>0.705691</td>\n",
       "      <td>-0.076016</td>\n",
       "      <td>-1.429937</td>\n",
       "      <td>-1.756147</td>\n",
       "      <td>1.355118</td>\n",
       "      <td>-2.525284</td>\n",
       "      <td>-4.443040</td>\n",
       "      <td>...</td>\n",
       "      <td>0.082600</td>\n",
       "      <td>-1.707664</td>\n",
       "      <td>-3.358466</td>\n",
       "      <td>-1.350928</td>\n",
       "      <td>1.032499</td>\n",
       "      <td>-3.894169</td>\n",
       "      <td>-1.723227</td>\n",
       "      <td>5.094263</td>\n",
       "      <td>3.633800</td>\n",
       "      <td>6.215348</td>\n",
       "    </tr>\n",
       "    <tr>\n",
       "      <th>1</th>\n",
       "      <td>-0.136469</td>\n",
       "      <td>1.943493</td>\n",
       "      <td>-0.042497</td>\n",
       "      <td>-2.107496</td>\n",
       "      <td>-1.492785</td>\n",
       "      <td>-2.601899</td>\n",
       "      <td>0.655413</td>\n",
       "      <td>0.962469</td>\n",
       "      <td>-2.503737</td>\n",
       "      <td>-2.750339</td>\n",
       "      <td>...</td>\n",
       "      <td>-8.703522</td>\n",
       "      <td>-0.949301</td>\n",
       "      <td>1.957260</td>\n",
       "      <td>1.529895</td>\n",
       "      <td>2.334945</td>\n",
       "      <td>0.811036</td>\n",
       "      <td>0.794276</td>\n",
       "      <td>-0.580594</td>\n",
       "      <td>-1.127669</td>\n",
       "      <td>-1.735796</td>\n",
       "    </tr>\n",
       "    <tr>\n",
       "      <th>2</th>\n",
       "      <td>1.610699</td>\n",
       "      <td>-1.486799</td>\n",
       "      <td>-4.186860</td>\n",
       "      <td>-5.889736</td>\n",
       "      <td>-3.864242</td>\n",
       "      <td>0.073622</td>\n",
       "      <td>0.883460</td>\n",
       "      <td>2.085948</td>\n",
       "      <td>3.144784</td>\n",
       "      <td>2.143409</td>\n",
       "      <td>...</td>\n",
       "      <td>-1.529296</td>\n",
       "      <td>0.905008</td>\n",
       "      <td>3.154959</td>\n",
       "      <td>2.715025</td>\n",
       "      <td>2.006940</td>\n",
       "      <td>0.184354</td>\n",
       "      <td>-0.436343</td>\n",
       "      <td>-0.897227</td>\n",
       "      <td>-1.398812</td>\n",
       "      <td>-9.103952</td>\n",
       "    </tr>\n",
       "    <tr>\n",
       "      <th>3</th>\n",
       "      <td>-2.565387</td>\n",
       "      <td>-2.616264</td>\n",
       "      <td>-1.236605</td>\n",
       "      <td>-0.314239</td>\n",
       "      <td>2.093729</td>\n",
       "      <td>0.366911</td>\n",
       "      <td>0.899621</td>\n",
       "      <td>7.599795</td>\n",
       "      <td>4.955997</td>\n",
       "      <td>6.344634</td>\n",
       "      <td>...</td>\n",
       "      <td>1.654992</td>\n",
       "      <td>1.921347</td>\n",
       "      <td>8.297705</td>\n",
       "      <td>8.285733</td>\n",
       "      <td>-1.704073</td>\n",
       "      <td>-3.431490</td>\n",
       "      <td>-0.865504</td>\n",
       "      <td>-1.708263</td>\n",
       "      <td>-3.854066</td>\n",
       "      <td>-2.092532</td>\n",
       "    </tr>\n",
       "    <tr>\n",
       "      <th>4</th>\n",
       "      <td>-9.300875</td>\n",
       "      <td>-0.392051</td>\n",
       "      <td>2.607884</td>\n",
       "      <td>1.838148</td>\n",
       "      <td>3.376423</td>\n",
       "      <td>2.509123</td>\n",
       "      <td>0.949900</td>\n",
       "      <td>-0.506972</td>\n",
       "      <td>-1.646014</td>\n",
       "      <td>-2.181118</td>\n",
       "      <td>...</td>\n",
       "      <td>0.249596</td>\n",
       "      <td>0.289698</td>\n",
       "      <td>-0.333991</td>\n",
       "      <td>-2.997540</td>\n",
       "      <td>-3.569156</td>\n",
       "      <td>-2.766500</td>\n",
       "      <td>-2.561796</td>\n",
       "      <td>-0.594959</td>\n",
       "      <td>-1.236605</td>\n",
       "      <td>0.477045</td>\n",
       "    </tr>\n",
       "  </tbody>\n",
       "</table>\n",
       "<p>5 rows × 50 columns</p>\n",
       "</div>"
      ],
      "text/plain": [
       "          0         1         2         3         4         5         6  \\\n",
       "0 -0.010774  0.715268  0.877475  0.705691 -0.076016 -1.429937 -1.756147   \n",
       "1 -0.136469  1.943493 -0.042497 -2.107496 -1.492785 -2.601899  0.655413   \n",
       "2  1.610699 -1.486799 -4.186860 -5.889736 -3.864242  0.073622  0.883460   \n",
       "3 -2.565387 -2.616264 -1.236605 -0.314239  2.093729  0.366911  0.899621   \n",
       "4 -9.300875 -0.392051  2.607884  1.838148  3.376423  2.509123  0.949900   \n",
       "\n",
       "          7         8         9    ...           40        41        42  \\\n",
       "0  1.355118 -2.525284 -4.443040    ...     0.082600 -1.707664 -3.358466   \n",
       "1  0.962469 -2.503737 -2.750339    ...    -8.703522 -0.949301  1.957260   \n",
       "2  2.085948  3.144784  2.143409    ...    -1.529296  0.905008  3.154959   \n",
       "3  7.599795  4.955997  6.344634    ...     1.654992  1.921347  8.297705   \n",
       "4 -0.506972 -1.646014 -2.181118    ...     0.249596  0.289698 -0.333991   \n",
       "\n",
       "         43        44        45        46        47        48        49  \n",
       "0 -1.350928  1.032499 -3.894169 -1.723227  5.094263  3.633800  6.215348  \n",
       "1  1.529895  2.334945  0.811036  0.794276 -0.580594 -1.127669 -1.735796  \n",
       "2  2.715025  2.006940  0.184354 -0.436343 -0.897227 -1.398812 -9.103952  \n",
       "3  8.285733 -1.704073 -3.431490 -0.865504 -1.708263 -3.854066 -2.092532  \n",
       "4 -2.997540 -3.569156 -2.766500 -2.561796 -0.594959 -1.236605  0.477045  \n",
       "\n",
       "[5 rows x 50 columns]"
      ]
     },
     "execution_count": 98,
     "metadata": {},
     "output_type": "execute_result"
    }
   ],
   "source": [
    "train_acc_x.head()"
   ]
  },
  {
   "cell_type": "code",
   "execution_count": 99,
   "metadata": {
    "collapsed": false
   },
   "outputs": [
    {
     "data": {
      "text/plain": [
       "(1596, 50)"
      ]
     },
     "execution_count": 99,
     "metadata": {},
     "output_type": "execute_result"
    }
   ],
   "source": [
    "train_acc_x.shape"
   ]
  },
  {
   "cell_type": "code",
   "execution_count": 100,
   "metadata": {
    "collapsed": true
   },
   "outputs": [],
   "source": [
    "train_data=pd.DataFrame()\n",
    "\n",
    "sum_sqr_acc_xyz=train_acc_x.pow(2)+train_acc_y.pow(2)+train_acc_z.pow(2)\n",
    "sum_sqr_gyro_xyz=train_gyro_x.pow(2)+train_gyro_x.pow(2)+train_gyro_x.pow(2)\n",
    "\n",
    "train_acc_mag=sum_sqr_acc_xyz.pow(0.5)\n",
    "train_gyro_mag=sum_sqr_gyro_xyz.pow(0.5)\n",
    "\n",
    "\n",
    "\n",
    "train_data['x_acc_mean']=train_acc_x.mean(axis=1)\n",
    "train_data['y_acc_mean']=train_acc_y.mean(axis=1)\n",
    "train_data['z_acc_mean']=train_acc_z.mean(axis=1)\n",
    "train_data['x_gyro_mean']=train_gyro_x.mean(axis=1)\n",
    "train_data['y_gyro_mean']=train_gyro_y.mean(axis=1)\n",
    "train_data['z_gyro_mean']=train_gyro_z.mean(axis=1)\n",
    "\n",
    "train_data['x_acc_std']=train_acc_x.std(axis=1)\n",
    "train_data['y_acc_std']=train_acc_y.std(axis=1)\n",
    "train_data['z_acc_std']=train_acc_z.std(axis=1)\n",
    "train_data['x_gyro_std']=train_gyro_x.std(axis=1)\n",
    "train_data['y_gyro_std']=train_gyro_y.std(axis=1)\n",
    "train_data['z_gyro_std']=train_gyro_z.std(axis=1)\n",
    "\n",
    "train_data['x_acc_min']=train_acc_x.min(axis=1)\n",
    "train_data['y_acc_min']=train_acc_y.min(axis=1)\n",
    "train_data['z_acc_min']=train_acc_z.min(axis=1)\n",
    "train_data['x_gyro_min']=train_gyro_x.min(axis=1)\n",
    "train_data['y_gyro_min']=train_gyro_y.min(axis=1)\n",
    "train_data['z_gyro_min']=train_gyro_z.min(axis=1)\n",
    "\n",
    "train_data['x_acc_max']=train_acc_x.max(axis=1)\n",
    "train_data['y_acc_max']=train_acc_y.max(axis=1)\n",
    "train_data['z_acc_max']=train_acc_z.max(axis=1)\n",
    "train_data['x_gyro_max']=train_gyro_x.max(axis=1)\n",
    "train_data['y_gyro_max']=train_gyro_y.max(axis=1)\n",
    "train_data['z_gyro_max']=train_gyro_z.max(axis=1)\n",
    "\n",
    "train_data['x_acc_var']=train_acc_x.var(axis=1)\n",
    "train_data['y_acc_var']=train_acc_y.var(axis=1)\n",
    "train_data['z_acc_var']=train_acc_z.var(axis=1)\n",
    "train_data['x_gyro_var']=train_gyro_x.var(axis=1)\n",
    "train_data['y_gyro_var']=train_gyro_y.var(axis=1)\n",
    "train_data['z_gyro_var']=train_gyro_z.var(axis=1)\n",
    "\n",
    "# train_data['x_acc_range']=train_data['x_acc_max']-train_data['x_acc_min']\n",
    "# train_data['y_acc_range']=train_data['y_acc_max']-train_data['y_acc_min']\n",
    "# train_data['z_acc_range']=train_data['z_acc_max']-train_data['z_acc_min']\n",
    "# train_data['x_gyro_range']=train_data['x_gyro_max']-train_data['x_gyro_min']\n",
    "# train_data['y_gyro_range']=train_data['y_gyro_max']-train_data['y_gyro_min']\n",
    "# train_data['z_gyro_range']=train_data['z_gyro_max']-train_data['z_gyro_min']\n",
    "\n",
    "\n",
    "\n",
    "# train_data['mag_acc_mean']=train_acc_mag.mean(axis=1)\n",
    "# train_data['mag_gyro_mean']=train_gyro_mag.mean(axis=1)\n",
    "\n",
    "# train_data['mag_acc_std']=train_acc_mag.std(axis=1)\n",
    "# train_data['mag_gyro_std']=train_gyro_mag.std(axis=1)\n",
    "\n",
    "# train_data['mag_acc_min']=train_acc_mag.min(axis=1)\n",
    "# train_data['mag_gyro_min']=train_gyro_mag.min(axis=1)\n",
    "\n",
    "# train_data['mag_acc_max']=train_acc_mag.max(axis=1)\n",
    "# train_data['mag_gyro_max']=train_gyro_mag.max(axis=1)\n",
    "\n",
    "# train_data['mag_acc_var']=train_acc_mag.var(axis=1)\n",
    "# train_data['mag_gyro_var']=train_gyro_mag.var(axis=1)\n",
    "\n",
    "# train_data['mag_acc_range']=train_data['mag_acc_max']-train_data['mag_acc_min']\n",
    "# train_data['mag_gyro_range']=train_data['mag_gyro_max']-train_data['mag_gyro_min']\n",
    "\n"
   ]
  },
  {
   "cell_type": "code",
   "execution_count": 101,
   "metadata": {
    "collapsed": false
   },
   "outputs": [
    {
     "data": {
      "text/plain": [
       "(1596, 30)"
      ]
     },
     "execution_count": 101,
     "metadata": {},
     "output_type": "execute_result"
    }
   ],
   "source": [
    "train_data.shape"
   ]
  },
  {
   "cell_type": "code",
   "execution_count": null,
   "metadata": {
    "collapsed": false
   },
   "outputs": [],
   "source": []
  },
  {
   "cell_type": "code",
   "execution_count": 102,
   "metadata": {
    "collapsed": false
   },
   "outputs": [],
   "source": [
    "import numpy as np\n",
    "from sklearn.decomposition import PCA\n",
    "pca = PCA(n_components=2)\n",
    "pca.fit(train_data.T)\n",
    "reduced_data=pd.DataFrame(pca.components_).T"
   ]
  },
  {
   "cell_type": "code",
   "execution_count": 103,
   "metadata": {
    "collapsed": false
   },
   "outputs": [
    {
     "data": {
      "text/html": [
       "<div>\n",
       "<style>\n",
       "    .dataframe thead tr:only-child th {\n",
       "        text-align: right;\n",
       "    }\n",
       "\n",
       "    .dataframe thead th {\n",
       "        text-align: left;\n",
       "    }\n",
       "\n",
       "    .dataframe tbody tr th {\n",
       "        vertical-align: top;\n",
       "    }\n",
       "</style>\n",
       "<table border=\"1\" class=\"dataframe\">\n",
       "  <thead>\n",
       "    <tr style=\"text-align: right;\">\n",
       "      <th></th>\n",
       "      <th>0</th>\n",
       "      <th>1</th>\n",
       "    </tr>\n",
       "  </thead>\n",
       "  <tbody>\n",
       "    <tr>\n",
       "      <th>0</th>\n",
       "      <td>0.033992</td>\n",
       "      <td>0.010199</td>\n",
       "    </tr>\n",
       "    <tr>\n",
       "      <th>1</th>\n",
       "      <td>0.037670</td>\n",
       "      <td>0.011195</td>\n",
       "    </tr>\n",
       "    <tr>\n",
       "      <th>2</th>\n",
       "      <td>0.040642</td>\n",
       "      <td>0.005105</td>\n",
       "    </tr>\n",
       "    <tr>\n",
       "      <th>3</th>\n",
       "      <td>0.042720</td>\n",
       "      <td>0.004134</td>\n",
       "    </tr>\n",
       "    <tr>\n",
       "      <th>4</th>\n",
       "      <td>0.046539</td>\n",
       "      <td>0.001151</td>\n",
       "    </tr>\n",
       "  </tbody>\n",
       "</table>\n",
       "</div>"
      ],
      "text/plain": [
       "          0         1\n",
       "0  0.033992  0.010199\n",
       "1  0.037670  0.011195\n",
       "2  0.040642  0.005105\n",
       "3  0.042720  0.004134\n",
       "4  0.046539  0.001151"
      ]
     },
     "execution_count": 103,
     "metadata": {},
     "output_type": "execute_result"
    }
   ],
   "source": [
    "reduced_data.head()"
   ]
  },
  {
   "cell_type": "code",
   "execution_count": 104,
   "metadata": {
    "collapsed": false
   },
   "outputs": [
    {
     "data": {
      "text/plain": [
       "<matplotlib.figure.Figure at 0x1191fb7b8>"
      ]
     },
     "metadata": {},
     "output_type": "display_data"
    },
    {
     "data": {
      "image/png": "[encoded data removed]",
      "text/plain": [
       "<matplotlib.figure.Figure at 0x118976278>"
      ]
     },
     "metadata": {},
     "output_type": "display_data"
    }
   ],
   "source": [
    "import matplotlib.pyplot as plt\n",
    "colors= [\"#1f77b4\", \"#ff7f0e\", \"#2ca02c\", \"#d62728\", \"#9467bd\", \"#8c564b\", \"#e377c2\", \"#7f7f7f\", \"#bcbd22\", \"#17becf\"]\n",
    "\n",
    "filtered_data = []\n",
    "#filtered_data=pd.DataFrame()\n",
    "for i in range(0,4):\n",
    "    #filtered_data[i]=reduced_data.loc[Xy_train_csv['y'] == i+1]\n",
    "    filtered_data.append(reduced_data.loc[acc_x['y'] == i+1])\n",
    "\n",
    "\n",
    "plt.figure(figsize=(15,10))\n",
    "for i in range(0,4):\n",
    "    plt.scatter(filtered_data[i][0],filtered_data[i][1], color=colors[i],label=labels[i])\n",
    "    plt.legend(loc='upper right')\n",
    "plt.show()"
   ]
  },
  {
   "cell_type": "code",
   "execution_count": null,
   "metadata": {
    "collapsed": false
   },
   "outputs": [],
   "source": []
  },
  {
   "cell_type": "code",
   "execution_count": 105,
   "metadata": {
    "collapsed": true
   },
   "outputs": [],
   "source": [
    "train_data['y']=acc_x['y']"
   ]
  },
  {
   "cell_type": "code",
   "execution_count": 106,
   "metadata": {
    "collapsed": false
   },
   "outputs": [
    {
     "data": {
      "text/html": [
       "<div>\n",
       "<style>\n",
       "    .dataframe thead tr:only-child th {\n",
       "        text-align: right;\n",
       "    }\n",
       "\n",
       "    .dataframe thead th {\n",
       "        text-align: left;\n",
       "    }\n",
       "\n",
       "    .dataframe tbody tr th {\n",
       "        vertical-align: top;\n",
       "    }\n",
       "</style>\n",
       "<table border=\"1\" class=\"dataframe\">\n",
       "  <thead>\n",
       "    <tr style=\"text-align: right;\">\n",
       "      <th></th>\n",
       "      <th>x_acc_mean</th>\n",
       "      <th>y_acc_mean</th>\n",
       "      <th>z_acc_mean</th>\n",
       "      <th>x_gyro_mean</th>\n",
       "      <th>y_gyro_mean</th>\n",
       "      <th>z_gyro_mean</th>\n",
       "      <th>x_acc_std</th>\n",
       "      <th>y_acc_std</th>\n",
       "      <th>z_acc_std</th>\n",
       "      <th>x_gyro_std</th>\n",
       "      <th>...</th>\n",
       "      <th>x_gyro_max</th>\n",
       "      <th>y_gyro_max</th>\n",
       "      <th>z_gyro_max</th>\n",
       "      <th>x_acc_var</th>\n",
       "      <th>y_acc_var</th>\n",
       "      <th>z_acc_var</th>\n",
       "      <th>x_gyro_var</th>\n",
       "      <th>y_gyro_var</th>\n",
       "      <th>z_gyro_var</th>\n",
       "      <th>y</th>\n",
       "    </tr>\n",
       "  </thead>\n",
       "  <tbody>\n",
       "    <tr>\n",
       "      <th>0</th>\n",
       "      <td>-0.218950</td>\n",
       "      <td>7.955274</td>\n",
       "      <td>-3.184923</td>\n",
       "      <td>-0.002429</td>\n",
       "      <td>-0.123464</td>\n",
       "      <td>-0.040160</td>\n",
       "      <td>2.179128</td>\n",
       "      <td>8.016286</td>\n",
       "      <td>3.171230</td>\n",
       "      <td>0.664390</td>\n",
       "      <td>...</td>\n",
       "      <td>1.433846</td>\n",
       "      <td>2.193379</td>\n",
       "      <td>1.264469</td>\n",
       "      <td>4.748600</td>\n",
       "      <td>64.260842</td>\n",
       "      <td>10.056698</td>\n",
       "      <td>0.441414</td>\n",
       "      <td>0.950023</td>\n",
       "      <td>0.541381</td>\n",
       "      <td>1</td>\n",
       "    </tr>\n",
       "    <tr>\n",
       "      <th>1</th>\n",
       "      <td>-0.549673</td>\n",
       "      <td>8.971948</td>\n",
       "      <td>-3.758262</td>\n",
       "      <td>0.064363</td>\n",
       "      <td>0.224664</td>\n",
       "      <td>-0.042291</td>\n",
       "      <td>2.901586</td>\n",
       "      <td>8.333936</td>\n",
       "      <td>3.910894</td>\n",
       "      <td>0.703172</td>\n",
       "      <td>...</td>\n",
       "      <td>1.532916</td>\n",
       "      <td>2.193379</td>\n",
       "      <td>1.285774</td>\n",
       "      <td>8.419202</td>\n",
       "      <td>69.454490</td>\n",
       "      <td>15.295092</td>\n",
       "      <td>0.494451</td>\n",
       "      <td>0.895130</td>\n",
       "      <td>0.587403</td>\n",
       "      <td>1</td>\n",
       "    </tr>\n",
       "    <tr>\n",
       "      <th>2</th>\n",
       "      <td>-0.582749</td>\n",
       "      <td>7.674039</td>\n",
       "      <td>-3.760704</td>\n",
       "      <td>0.057119</td>\n",
       "      <td>-0.042632</td>\n",
       "      <td>-0.185100</td>\n",
       "      <td>3.553182</td>\n",
       "      <td>8.679550</td>\n",
       "      <td>3.849088</td>\n",
       "      <td>0.713240</td>\n",
       "      <td>...</td>\n",
       "      <td>1.565939</td>\n",
       "      <td>1.757686</td>\n",
       "      <td>2.343582</td>\n",
       "      <td>12.625100</td>\n",
       "      <td>75.334588</td>\n",
       "      <td>14.815475</td>\n",
       "      <td>0.508711</td>\n",
       "      <td>0.617558</td>\n",
       "      <td>0.891905</td>\n",
       "      <td>1</td>\n",
       "    </tr>\n",
       "    <tr>\n",
       "      <th>3</th>\n",
       "      <td>-0.287196</td>\n",
       "      <td>8.730600</td>\n",
       "      <td>-3.737205</td>\n",
       "      <td>0.013848</td>\n",
       "      <td>-0.080065</td>\n",
       "      <td>-0.080449</td>\n",
       "      <td>3.722756</td>\n",
       "      <td>8.955863</td>\n",
       "      <td>3.931322</td>\n",
       "      <td>0.657740</td>\n",
       "      <td>...</td>\n",
       "      <td>1.733185</td>\n",
       "      <td>1.631985</td>\n",
       "      <td>2.733469</td>\n",
       "      <td>13.858912</td>\n",
       "      <td>80.207484</td>\n",
       "      <td>15.455292</td>\n",
       "      <td>0.432622</td>\n",
       "      <td>0.605258</td>\n",
       "      <td>1.288785</td>\n",
       "      <td>1</td>\n",
       "    </tr>\n",
       "    <tr>\n",
       "      <th>4</th>\n",
       "      <td>-0.534697</td>\n",
       "      <td>7.816218</td>\n",
       "      <td>-3.713922</td>\n",
       "      <td>-0.078446</td>\n",
       "      <td>0.125744</td>\n",
       "      <td>0.059335</td>\n",
       "      <td>3.789754</td>\n",
       "      <td>9.326009</td>\n",
       "      <td>4.294052</td>\n",
       "      <td>0.772373</td>\n",
       "      <td>...</td>\n",
       "      <td>2.558765</td>\n",
       "      <td>1.706554</td>\n",
       "      <td>2.733469</td>\n",
       "      <td>14.362234</td>\n",
       "      <td>86.974450</td>\n",
       "      <td>18.438882</td>\n",
       "      <td>0.596561</td>\n",
       "      <td>0.768378</td>\n",
       "      <td>1.052919</td>\n",
       "      <td>1</td>\n",
       "    </tr>\n",
       "  </tbody>\n",
       "</table>\n",
       "<p>5 rows × 31 columns</p>\n",
       "</div>"
      ],
      "text/plain": [
       "   x_acc_mean  y_acc_mean  z_acc_mean  x_gyro_mean  y_gyro_mean  z_gyro_mean  \\\n",
       "0   -0.218950    7.955274   -3.184923    -0.002429    -0.123464    -0.040160   \n",
       "1   -0.549673    8.971948   -3.758262     0.064363     0.224664    -0.042291   \n",
       "2   -0.582749    7.674039   -3.760704     0.057119    -0.042632    -0.185100   \n",
       "3   -0.287196    8.730600   -3.737205     0.013848    -0.080065    -0.080449   \n",
       "4   -0.534697    7.816218   -3.713922    -0.078446     0.125744     0.059335   \n",
       "\n",
       "   x_acc_std  y_acc_std  z_acc_std  x_gyro_std ...  x_gyro_max  y_gyro_max  \\\n",
       "0   2.179128   8.016286   3.171230    0.664390 ...    1.433846    2.193379   \n",
       "1   2.901586   8.333936   3.910894    0.703172 ...    1.532916    2.193379   \n",
       "2   3.553182   8.679550   3.849088    0.713240 ...    1.565939    1.757686   \n",
       "3   3.722756   8.955863   3.931322    0.657740 ...    1.733185    1.631985   \n",
       "4   3.789754   9.326009   4.294052    0.772373 ...    2.558765    1.706554   \n",
       "\n",
       "   z_gyro_max  x_acc_var  y_acc_var  z_acc_var  x_gyro_var  y_gyro_var  \\\n",
       "0    1.264469   4.748600  64.260842  10.056698    0.441414    0.950023   \n",
       "1    1.285774   8.419202  69.454490  15.295092    0.494451    0.895130   \n",
       "2    2.343582  12.625100  75.334588  14.815475    0.508711    0.617558   \n",
       "3    2.733469  13.858912  80.207484  15.455292    0.432622    0.605258   \n",
       "4    2.733469  14.362234  86.974450  18.438882    0.596561    0.768378   \n",
       "\n",
       "   z_gyro_var  y  \n",
       "0    0.541381  1  \n",
       "1    0.587403  1  \n",
       "2    0.891905  1  \n",
       "3    1.288785  1  \n",
       "4    1.052919  1  \n",
       "\n",
       "[5 rows x 31 columns]"
      ]
     },
     "execution_count": 106,
     "metadata": {},
     "output_type": "execute_result"
    }
   ],
   "source": [
    "train_data.head()"
   ]
  },
  {
   "cell_type": "code",
   "execution_count": 107,
   "metadata": {
    "collapsed": true
   },
   "outputs": [],
   "source": [
    "shuffle=train_data.sample(frac=1).reset_index(drop=True)"
   ]
  },
  {
   "cell_type": "code",
   "execution_count": 120,
   "metadata": {
    "collapsed": false
   },
   "outputs": [
    {
     "data": {
      "text/plain": [
       "(1596, 31)"
      ]
     },
     "execution_count": 120,
     "metadata": {},
     "output_type": "execute_result"
    }
   ],
   "source": [
    "shuffle.shape"
   ]
  },
  {
   "cell_type": "code",
   "execution_count": 121,
   "metadata": {
    "collapsed": false
   },
   "outputs": [],
   "source": [
    "train_data=shuffle.iloc[0:train_count,0:30]\n",
    "train_label=shuffle.loc[0:train_count-1,['y']]\n",
    "test_data=shuffle.iloc[train_count:total,0:30]\n",
    "test_label=shuffle.loc[train_count:total,'y']"
   ]
  },
  {
   "cell_type": "code",
   "execution_count": 122,
   "metadata": {
    "collapsed": false
   },
   "outputs": [
    {
     "data": {
      "text/plain": [
       "1117"
      ]
     },
     "execution_count": 122,
     "metadata": {},
     "output_type": "execute_result"
    }
   ],
   "source": [
    "train_count"
   ]
  },
  {
   "cell_type": "code",
   "execution_count": 123,
   "metadata": {
    "collapsed": false
   },
   "outputs": [
    {
     "data": {
      "text/html": [
       "<div>\n",
       "<style>\n",
       "    .dataframe thead tr:only-child th {\n",
       "        text-align: right;\n",
       "    }\n",
       "\n",
       "    .dataframe thead th {\n",
       "        text-align: left;\n",
       "    }\n",
       "\n",
       "    .dataframe tbody tr th {\n",
       "        vertical-align: top;\n",
       "    }\n",
       "</style>\n",
       "<table border=\"1\" class=\"dataframe\">\n",
       "  <thead>\n",
       "    <tr style=\"text-align: right;\">\n",
       "      <th></th>\n",
       "      <th>x_acc_mean</th>\n",
       "      <th>y_acc_mean</th>\n",
       "      <th>z_acc_mean</th>\n",
       "      <th>x_gyro_mean</th>\n",
       "      <th>y_gyro_mean</th>\n",
       "      <th>z_gyro_mean</th>\n",
       "      <th>x_acc_std</th>\n",
       "      <th>y_acc_std</th>\n",
       "      <th>z_acc_std</th>\n",
       "      <th>x_gyro_std</th>\n",
       "      <th>...</th>\n",
       "      <th>z_acc_max</th>\n",
       "      <th>x_gyro_max</th>\n",
       "      <th>y_gyro_max</th>\n",
       "      <th>z_gyro_max</th>\n",
       "      <th>x_acc_var</th>\n",
       "      <th>y_acc_var</th>\n",
       "      <th>z_acc_var</th>\n",
       "      <th>x_gyro_var</th>\n",
       "      <th>y_gyro_var</th>\n",
       "      <th>z_gyro_var</th>\n",
       "    </tr>\n",
       "  </thead>\n",
       "  <tbody>\n",
       "    <tr>\n",
       "      <th>0</th>\n",
       "      <td>-0.366923</td>\n",
       "      <td>6.892763</td>\n",
       "      <td>-3.813353</td>\n",
       "      <td>0.040118</td>\n",
       "      <td>0.142916</td>\n",
       "      <td>0.020219</td>\n",
       "      <td>3.676806</td>\n",
       "      <td>9.183934</td>\n",
       "      <td>5.441094</td>\n",
       "      <td>0.911018</td>\n",
       "      <td>...</td>\n",
       "      <td>5.130774</td>\n",
       "      <td>2.171009</td>\n",
       "      <td>1.873800</td>\n",
       "      <td>3.413107</td>\n",
       "      <td>13.518899</td>\n",
       "      <td>84.344651</td>\n",
       "      <td>29.605502</td>\n",
       "      <td>0.829954</td>\n",
       "      <td>0.851999</td>\n",
       "      <td>1.366253</td>\n",
       "    </tr>\n",
       "    <tr>\n",
       "      <th>1</th>\n",
       "      <td>-0.338420</td>\n",
       "      <td>7.859158</td>\n",
       "      <td>-3.981737</td>\n",
       "      <td>0.007350</td>\n",
       "      <td>0.258731</td>\n",
       "      <td>0.036666</td>\n",
       "      <td>4.055446</td>\n",
       "      <td>9.554133</td>\n",
       "      <td>5.097861</td>\n",
       "      <td>1.056615</td>\n",
       "      <td>...</td>\n",
       "      <td>3.127426</td>\n",
       "      <td>2.476740</td>\n",
       "      <td>2.181662</td>\n",
       "      <td>3.448261</td>\n",
       "      <td>16.446639</td>\n",
       "      <td>91.281452</td>\n",
       "      <td>25.988182</td>\n",
       "      <td>1.116436</td>\n",
       "      <td>1.260350</td>\n",
       "      <td>1.158617</td>\n",
       "    </tr>\n",
       "    <tr>\n",
       "      <th>2</th>\n",
       "      <td>-0.424683</td>\n",
       "      <td>9.376556</td>\n",
       "      <td>-2.934597</td>\n",
       "      <td>0.033449</td>\n",
       "      <td>0.061040</td>\n",
       "      <td>-0.079426</td>\n",
       "      <td>1.521089</td>\n",
       "      <td>3.141942</td>\n",
       "      <td>2.508823</td>\n",
       "      <td>0.292239</td>\n",
       "      <td>...</td>\n",
       "      <td>1.825579</td>\n",
       "      <td>0.656203</td>\n",
       "      <td>0.627441</td>\n",
       "      <td>0.566721</td>\n",
       "      <td>2.313713</td>\n",
       "      <td>9.871800</td>\n",
       "      <td>6.294192</td>\n",
       "      <td>0.085403</td>\n",
       "      <td>0.151896</td>\n",
       "      <td>0.145353</td>\n",
       "    </tr>\n",
       "    <tr>\n",
       "      <th>3</th>\n",
       "      <td>-0.684071</td>\n",
       "      <td>9.767780</td>\n",
       "      <td>-2.658749</td>\n",
       "      <td>0.011334</td>\n",
       "      <td>0.012996</td>\n",
       "      <td>-0.046275</td>\n",
       "      <td>1.571033</td>\n",
       "      <td>2.921798</td>\n",
       "      <td>2.334352</td>\n",
       "      <td>0.289357</td>\n",
       "      <td>...</td>\n",
       "      <td>1.083376</td>\n",
       "      <td>0.525175</td>\n",
       "      <td>0.610397</td>\n",
       "      <td>0.695618</td>\n",
       "      <td>2.468144</td>\n",
       "      <td>8.536905</td>\n",
       "      <td>5.449197</td>\n",
       "      <td>0.083727</td>\n",
       "      <td>0.134530</td>\n",
       "      <td>0.156182</td>\n",
       "    </tr>\n",
       "    <tr>\n",
       "      <th>4</th>\n",
       "      <td>-0.258586</td>\n",
       "      <td>7.687434</td>\n",
       "      <td>5.039160</td>\n",
       "      <td>-0.013508</td>\n",
       "      <td>0.004602</td>\n",
       "      <td>-0.037774</td>\n",
       "      <td>0.015409</td>\n",
       "      <td>0.030277</td>\n",
       "      <td>0.044138</td>\n",
       "      <td>0.009056</td>\n",
       "      <td>...</td>\n",
       "      <td>5.133767</td>\n",
       "      <td>0.002131</td>\n",
       "      <td>0.012783</td>\n",
       "      <td>-0.033023</td>\n",
       "      <td>0.000237</td>\n",
       "      <td>0.000917</td>\n",
       "      <td>0.001948</td>\n",
       "      <td>0.000082</td>\n",
       "      <td>0.000017</td>\n",
       "      <td>0.000004</td>\n",
       "    </tr>\n",
       "  </tbody>\n",
       "</table>\n",
       "<p>5 rows × 30 columns</p>\n",
       "</div>"
      ],
      "text/plain": [
       "   x_acc_mean  y_acc_mean  z_acc_mean  x_gyro_mean  y_gyro_mean  z_gyro_mean  \\\n",
       "0   -0.366923    6.892763   -3.813353     0.040118     0.142916     0.020219   \n",
       "1   -0.338420    7.859158   -3.981737     0.007350     0.258731     0.036666   \n",
       "2   -0.424683    9.376556   -2.934597     0.033449     0.061040    -0.079426   \n",
       "3   -0.684071    9.767780   -2.658749     0.011334     0.012996    -0.046275   \n",
       "4   -0.258586    7.687434    5.039160    -0.013508     0.004602    -0.037774   \n",
       "\n",
       "   x_acc_std  y_acc_std  z_acc_std  x_gyro_std     ...      z_acc_max  \\\n",
       "0   3.676806   9.183934   5.441094    0.911018     ...       5.130774   \n",
       "1   4.055446   9.554133   5.097861    1.056615     ...       3.127426   \n",
       "2   1.521089   3.141942   2.508823    0.292239     ...       1.825579   \n",
       "3   1.571033   2.921798   2.334352    0.289357     ...       1.083376   \n",
       "4   0.015409   0.030277   0.044138    0.009056     ...       5.133767   \n",
       "\n",
       "   x_gyro_max  y_gyro_max  z_gyro_max  x_acc_var  y_acc_var  z_acc_var  \\\n",
       "0    2.171009    1.873800    3.413107  13.518899  84.344651  29.605502   \n",
       "1    2.476740    2.181662    3.448261  16.446639  91.281452  25.988182   \n",
       "2    0.656203    0.627441    0.566721   2.313713   9.871800   6.294192   \n",
       "3    0.525175    0.610397    0.695618   2.468144   8.536905   5.449197   \n",
       "4    0.002131    0.012783   -0.033023   0.000237   0.000917   0.001948   \n",
       "\n",
       "   x_gyro_var  y_gyro_var  z_gyro_var  \n",
       "0    0.829954    0.851999    1.366253  \n",
       "1    1.116436    1.260350    1.158617  \n",
       "2    0.085403    0.151896    0.145353  \n",
       "3    0.083727    0.134530    0.156182  \n",
       "4    0.000082    0.000017    0.000004  \n",
       "\n",
       "[5 rows x 30 columns]"
      ]
     },
     "execution_count": 123,
     "metadata": {},
     "output_type": "execute_result"
    }
   ],
   "source": [
    "train_data.head()"
   ]
  },
  {
   "cell_type": "code",
   "execution_count": 124,
   "metadata": {
    "collapsed": false
   },
   "outputs": [
    {
     "data": {
      "text/plain": [
       "(1117, 30)"
      ]
     },
     "execution_count": 124,
     "metadata": {},
     "output_type": "execute_result"
    }
   ],
   "source": [
    "train_data.shape"
   ]
  },
  {
   "cell_type": "code",
   "execution_count": 125,
   "metadata": {
    "collapsed": false
   },
   "outputs": [
    {
     "data": {
      "text/plain": [
       "(1117, 1)"
      ]
     },
     "execution_count": 125,
     "metadata": {},
     "output_type": "execute_result"
    }
   ],
   "source": [
    "train_label.shape"
   ]
  },
  {
   "cell_type": "code",
   "execution_count": null,
   "metadata": {
    "collapsed": true
   },
   "outputs": [],
   "source": []
  },
  {
   "cell_type": "code",
   "execution_count": null,
   "metadata": {
    "collapsed": true
   },
   "outputs": [],
   "source": []
  },
  {
   "cell_type": "code",
   "execution_count": 126,
   "metadata": {
    "collapsed": false
   },
   "outputs": [
    {
     "name": "stdout",
     "output_type": "stream",
     "text": [
      "Training input  (1117, 30) \n",
      "Training label  (1117, 1)\n"
     ]
    }
   ],
   "source": [
    "from sklearn.linear_model import LogisticRegression\n",
    "model = LogisticRegression()\n",
    "print(\"Training input \",train_data.shape,\"\\nTraining label \",train_label.shape)\n",
    "model = model.fit(train_data, train_label.values.ravel())"
   ]
  },
  {
   "cell_type": "code",
   "execution_count": 127,
   "metadata": {
    "collapsed": true
   },
   "outputs": [],
   "source": [
    "import pickle\n",
    "output = open('model.pkl', 'wb')\n",
    "pickle.dump(model, output)\n",
    "output.close()"
   ]
  },
  {
   "cell_type": "code",
   "execution_count": 128,
   "metadata": {
    "collapsed": true
   },
   "outputs": [],
   "source": [
    "predicted = model.predict(test_data)"
   ]
  },
  {
   "cell_type": "code",
   "execution_count": 129,
   "metadata": {
    "collapsed": false
   },
   "outputs": [
    {
     "name": "stdout",
     "output_type": "stream",
     "text": [
      "Accuracy:  1.0\n"
     ]
    }
   ],
   "source": [
    "print(\"Accuracy: \",model.score(test_data, test_label))"
   ]
  },
  {
   "cell_type": "code",
   "execution_count": null,
   "metadata": {
    "collapsed": true
   },
   "outputs": [],
   "source": []
  },
  {
   "cell_type": "code",
   "execution_count": null,
   "metadata": {
    "collapsed": true
   },
   "outputs": [],
   "source": []
  },
  {
   "cell_type": "code",
   "execution_count": 118,
   "metadata": {
    "collapsed": false
   },
   "outputs": [
    {
     "name": "stdout",
     "output_type": "stream",
     "text": [
      "             precision    recall  f1-score   support\n",
      "\n",
      "    Running       1.00      1.00      1.00       121\n",
      "    Sitting       1.00      1.00      1.00       117\n",
      "    Walking       1.00      1.00      1.00       107\n",
      "     Laying       1.00      1.00      1.00       134\n",
      "\n",
      "avg / total       1.00      1.00      1.00       479\n",
      "\n"
     ]
    },
    {
     "data": {
      "image/png": "[encoded data removed]",
      "text/plain": [
       "<matplotlib.figure.Figure at 0x118964400>"
      ]
     },
     "metadata": {},
     "output_type": "display_data"
    }
   ],
   "source": [
    "from sklearn.metrics import classification_report, confusion_matrix\n",
    "import matplotlib.pyplot as plt\n",
    "import numpy as np\n",
    "#plt.style.use('ggplot')\n",
    "\n",
    "labels = {1:'Running', 2:'Sitting', 3:'Walking',\n",
    "          4:'Laying'}\n",
    "\n",
    "print (classification_report(test_label, predicted,\n",
    "                            target_names=[l for l in labels.values()]))\n",
    "\n",
    "conf_mat = confusion_matrix(test_label, predicted)\n",
    "\n",
    "fig = plt.figure(figsize=(4,4))\n",
    "width = np.shape(conf_mat)[1]\n",
    "height = np.shape(conf_mat)[0]\n",
    "\n",
    "res = plt.imshow(np.array(conf_mat), cmap=plt.cm.summer, interpolation='nearest')\n",
    "for i, row in enumerate(conf_mat):\n",
    "    for j, c in enumerate(row):\n",
    "        if c>0:\n",
    "            plt.text(j-.2, i+.1, c, fontsize=16)\n",
    "            \n",
    "cb = fig.colorbar(res)\n",
    "plt.title('Confusion Matrix')\n",
    "plt.xticks(range(4), [l for l in labels.values()], rotation=90)\n",
    "plt.yticks(range(4), [l for l in labels.values()])\n",
    "plt.show()"
   ]
  },
  {
   "cell_type": "code",
   "execution_count": 119,
   "metadata": {
    "collapsed": false
   },
   "outputs": [
    {
     "name": "stdout",
     "output_type": "stream",
     "text": [
      "1.0\n"
     ]
    }
   ],
   "source": [
    "from sklearn.svm import SVC\n",
    "clf = SVC(C=1., gamma=0.1, kernel='rbf', random_state=0)\n",
    "clf.fit(train_data, train_label.values.ravel()) \n",
    "print(clf.score(test_data, test_label))"
   ]
  },
  {
   "cell_type": "code",
   "execution_count": 129,
   "metadata": {
    "collapsed": true
   },
   "outputs": [],
   "source": [
    "from sklearn_porter import Porter\n",
    "\n",
    "porter = Porter(clf, language='java')\n",
    "output = porter.export()\n",
    "\n",
    "text_file = open(\"MyActivity.java\", \"w\")\n",
    "text_file.write(output)\n",
    "text_file.close()"
   ]
  },
  {
   "cell_type": "code",
   "execution_count": null,
   "metadata": {
    "collapsed": true
   },
   "outputs": [],
   "source": []
  }
 ],
 "metadata": {
  "anaconda-cloud": {},
  "kernelspec": {
   "display_name": "Python [default]",
   "language": "python",
   "name": "python3"
  },
  "language_info": {
   "codemirror_mode": {
    "name": "ipython",
    "version": 3
   },
   "file_extension": ".py",
   "mimetype": "text/x-python",
   "name": "python",
   "nbconvert_exporter": "python",
   "pygments_lexer": "ipython3",
   "version": "3.5.2"
  }
 },
 "nbformat": 4,
 "nbformat_minor": 1
}
